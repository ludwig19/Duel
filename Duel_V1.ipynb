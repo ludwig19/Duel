{
 "cells": [
  {
   "cell_type": "code",
   "execution_count": 1,
   "metadata": {},
   "outputs": [],
   "source": [
    "# A resource is wood, brick, stone, glass, paper\n",
    "#     [wood, brick, stone, glass, paper]\n",
    "# Card is the basis for the game cards are given and taken away from players, \n",
    "# players never GAIN the abilities of the cards, they just gain or lose cards\n",
    "import collections, functools, operator \n"
   ]
  },
  {
   "cell_type": "markdown",
   "metadata": {},
   "source": [
    "# Player Class"
   ]
  },
  {
   "cell_type": "code",
   "execution_count": 2,
   "metadata": {},
   "outputs": [],
   "source": [
    "class Player:\n",
    "    def __init__(self, name):\n",
    "        self.name=name\n",
    "        self.card_dict={}\n",
    "        self.coins=7\n",
    "    def get_name(self):\n",
    "        return self.name\n",
    "    \n",
    "    def get_coin(self):\n",
    "        return self.coins\n",
    "    \n",
    "    def put_card(self, card, card_cost):\n",
    "        print(self.get_name() + \" acquired \" + card.get_name())\n",
    "        self.card_dict[card.name]={\"Attack\": card.attack, \"VP\": card.vp,\n",
    "                                   \"Resource\": card.resource, \"Card Type\": card.card_type}\n",
    "        self.coins-=card_cost\n",
    "        if card.get_coin_cost() > 0:\n",
    "            print(self.get_name() + \" spent {0} Coin(s)\".format(card_cost))\n",
    "    \n",
    "    def get_resource_amount(self, resource):\n",
    "        return dict(self.count_type(\"Resource\").items()).get(resource)\n",
    "        \n",
    "    def count_type(self, action_type):\n",
    "        t_sum=0\n",
    "#         Deal with int types \n",
    "        if action_type in [\"Attack\", \"VP\"]: \n",
    "            for i in self.card_dict.values():\n",
    "                t_sum +=i[action_type]\n",
    "            return t_sum\n",
    "#         Deal with tuple types (Resource)\n",
    "        if action_type==\"Resource\":\n",
    "            all=[]\n",
    "            all.append({\"Coin\":self.coins})\n",
    "            for i in self.card_dict.values():\n",
    "                all.append(i[action_type])\n",
    "            result = dict(functools.reduce(operator.add, \n",
    "                                           map(collections.Counter, all)))\n",
    "            return result\n",
    "        \n",
    "    def discard_card(self, card):\n",
    "#         This function handles discarding card to gain coins based off of number of Treasure Cards\n",
    "        self.count_type(\"Treasure\")\n",
    "        \n",
    "    def trade_ratio_calc(self, opp, m_dict): #return a dictionary with resource cost per resource missing EXCLUDES COIN COSTS \n",
    "        def trade_ratio_calc_child(self, opp, m_dict, ret):\n",
    "            if len(m_dict) > 0:\n",
    "                resource = next(iter(m_dict)) \n",
    "                p_resource_count = self.get_resource_amount(resource) if self.get_resource_amount(resource) is not None else 0\n",
    "                o_resource_count = opp.get_resource_amount(resource) if opp.get_resource_amount(resource) is not None else 0\n",
    "                #base cost is 2 + number opponent has do I need player dict? need player dict to get special resource and conversion cards\n",
    "                ret[resource] = o_resource_count + 2 \n",
    "                del m_dict[next(iter(m_dict))]\n",
    "                trade_ratio_calc_child(self, opp, m_dict, ret)\n",
    "            return ret\n",
    "        if \"Coin\" in m_dict:\n",
    "            del m_dict[\"Coin\"]\n",
    "        ret = {resource:0 for resource in m_dict.keys()} #initialize ret\n",
    "        return trade_ratio_calc_child(self, opp, m_dict, ret)\n",
    "    \n",
    "    def add_card(self, card, opp):\n",
    "        flg=1\n",
    "        m_dict = {}\n",
    "        #determine if you can afford card. \n",
    "        for c_resource, c_amount in zip(card.get_cost().keys(), card.get_cost().values()):\n",
    "            if self.get_resource_amount(c_resource) is None or self.get_resource_amount(c_resource) < c_amount:\n",
    "                #avoid contrasting None vs int type \n",
    "                if self.get_resource_amount(c_resource) == None:\n",
    "                    m_dict[c_resource] = c_amount\n",
    "                else:\n",
    "                    m_dict[c_resource] = c_amount - self.get_resource_amount(c_resource)\n",
    "                flg=0\n",
    "                #set flag here to jump into if else below \n",
    "                \n",
    "        if flg: # add card to player and remove necessary coins\n",
    "            self.put_card(card,card.get_coin_cost())            \n",
    "        else: #check for \n",
    "            #create copy of m_dict to multiply trade_ratio by m_dict to find total cost after adjusting for BaseSpecial\n",
    "            m_dict_copy = m_dict.copy()\n",
    "            trade_ratios = self.trade_ratio_calc(opp, m_dict_copy)\n",
    "            #basespecial\n",
    "            if self.get_resource_amount(\"BaseSpecial\"):\n",
    "                keys_to_extract = [\"Wood\", \"Stone\", \"Brick\"]\n",
    "                base_trade_ratio = {}\n",
    "                for key in keys_to_extract:\n",
    "                    if key in trade_ratios:\n",
    "                        base_trade_ratio[key] = trade_ratios[key]\n",
    "                for i in range(self.get_resource_amount(\"BaseSpecial\")):\n",
    "                    if m_dict[max(base_trade_ratio, key=base_trade_ratio.get)]>0:\n",
    "                        m_dict[max(base_trade_ratio, key=base_trade_ratio.get)] -= 1\n",
    "            #AdvancedSpecial\n",
    "            if self.get_resource_amount(\"AdvancedSpecial\"):\n",
    "                keys_to_extract = [\"Glass\", \"Paper\"]\n",
    "                advanced_trade_ratio = {}\n",
    "                for key in keys_to_extract:\n",
    "                    if key in trade_ratios:\n",
    "                        advanced_trade_ratio[key] = trade_ratios[key]\n",
    "                for i in range(self.get_resource_amount(\"AdvancedSpecial\")):\n",
    "                    if m_dict[max(advanced_trade_ratio, key=advanced_trade_ratio.get)]>0:\n",
    "                        m_dict[max(advanced_trade_ratio, key=advanced_trade_ratio.get)] -= 1\n",
    "            #sum up remaining resources and multiple m_dict by trade_calc_ratios.\n",
    "            card_total_coin = card.get_coin_cost() + sum({k: m_dict.get(k, 0) * trade_ratios.get(k, 0) for k in set(m_dict)}.values())\n",
    "            if card_total_coin:\n",
    "                print(self.get_name() + \" doesn't have the necessary resources to gain this card\\n\" +\n",
    "                      self.get_name() +\" is missing \"\n",
    "                      )\n",
    "                print(m_dict)\n",
    "                q = input(\"The smallest cost for the card is {0}. Do you want to purchase?\\nYou have {1} coins\".\n",
    "                          format(card_total_coin, self.get_coin()))\n",
    "                if q == \"Yes\": #change coin amount to replace\n",
    "                    if self.get_coin() - card_total_coin >= 0: \n",
    "                        self.put_card(card, card_total_coin)\n",
    "                    else:\n",
    "                        print(self.get_name() + \" doesn't have enough coins, please choose something else\")\n",
    "                else:\n",
    "                    print(self.get_name() + \" doesn't acquire {0}, please choose again\".format(card.get_name()))\n",
    "            else:\n",
    "                self.put_card(card, card_total_coin)"
   ]
  },
  {
   "cell_type": "markdown",
   "metadata": {},
   "source": [
    "# Card Class"
   ]
  },
  {
   "cell_type": "code",
   "execution_count": 3,
   "metadata": {},
   "outputs": [],
   "source": [
    " class Card: \n",
    "    #must define card type and name everything else is optional \n",
    "    #attack = number of attack positions army moves\n",
    "    #vp = standalone vp points\n",
    "    #coin = coins to gain\n",
    "    #cost = dictionary of costs (including coin)\n",
    "    #resource = resources to gain (not including coin)\n",
    "    #card_type = resource/attack/vp/ect (good for counting what you have at end of game).\n",
    "    def __init__(self, name='', attack=0, vp=0, coin=0, cost={\"Coin\": 0}, resource={}, card_type=''):\n",
    "        self.name = name\n",
    "        self.attack  = attack\n",
    "        self.vp = vp\n",
    "        self.coin = coin\n",
    "        self.cost=cost\n",
    "        self.resource=resource\n",
    "        self.card_type=card_type\n",
    "    def get_name(self):\n",
    "        return self.name  \n",
    "    def get_attack(self):\n",
    "        return self.attack\n",
    "    def get_vp(self):\n",
    "        return self.vp\n",
    "    def get_coin(self):\n",
    "        return self.coin\n",
    "    def get_cost(self):\n",
    "        return self.cost\n",
    "    def get_coin_cost(self):\n",
    "        if \"Coin\" in self.get_cost():\n",
    "            return self.get_cost()[\"Coin\"]\n",
    "        else:\n",
    "            return 0\n",
    "    def get_resource(self):\n",
    "        return self.resource\n",
    "    def get_card_type(self):\n",
    "        return self.card_type"
   ]
  },
  {
   "cell_type": "markdown",
   "metadata": {},
   "source": [
    "# Define Gameboard "
   ]
  },
  {
   "cell_type": "code",
   "execution_count": 4,
   "metadata": {},
   "outputs": [],
   "source": [
    "#Randomly select x cards from card_list\n",
    "#"
   ]
  },
  {
   "cell_type": "markdown",
   "metadata": {},
   "source": [
    "# Card Dictionary\n",
    "## Use this space to define cards that are currently in play"
   ]
  },
  {
   "cell_type": "code",
   "execution_count": 5,
   "metadata": {
    "scrolled": true
   },
   "outputs": [
    {
     "name": "stdout",
     "output_type": "stream",
     "text": [
      "Jess acquired Glassworks\n",
      "Jess spent 1 Coin(s)\n",
      "Alex doesn't have the necessary resources to gain this card\n",
      "Alex is missing \n",
      "{'Glass': 1, 'Paper': 1}\n"
     ]
    },
    {
     "name": "stdin",
     "output_type": "stream",
     "text": [
      "The smallest cost for the card is 7. Do you want to purchase?\n",
      "You have 7 coins No\n"
     ]
    },
    {
     "name": "stdout",
     "output_type": "stream",
     "text": [
      "Alex doesn't acquire Caravansery, please choose again\n",
      "Alex doesn't have the necessary resources to gain this card\n",
      "Alex is missing \n",
      "{'Glass': 2, 'Stone': 1}\n"
     ]
    },
    {
     "name": "stdin",
     "output_type": "stream",
     "text": [
      "The smallest cost for the card is 8. Do you want to purchase?\n",
      "You have 7 coins Yes\n"
     ]
    },
    {
     "name": "stdout",
     "output_type": "stream",
     "text": [
      "Alex doesn't have enough coins, please choose something else\n"
     ]
    }
   ],
   "source": [
    "# Need to set up so only have to define cards with non-zero values. \n",
    "# Dumb to make it so you have to write 0 over and over.\n",
    "# cards = [Card('Guard Tower', 1, 0, 0, {\"Coin\":1}, {\"Wood\":0, \"Brick\":0, \"Stone\":0, \"Glass\":0, \n",
    "#                                           \"Paper\":0, \"BaseSpecial\":0, \"AdvancedSpecial\":0}, \"Attack\"), \n",
    "#          Card('Stone Pit', 0, 0, 0, {\"Coin\":0}, {\"Wood\":0, \"Brick\":0, \"Stone\":1, \"Glass\":0, \"Paper\":0}, \"Resource\")]\n",
    "# # player_list=[Player(\"Alex\"), Player(\"Jess\")]\n",
    "# Caravansery = Card(name='Caravansery', attack=0, vp=0, coin=0, cost={\"Coin\":2, \"Glass\":1, \"Paper\":1}, \n",
    "#                    resource={\"BaseSpecial\":1}, card_type=\"Treasure\")\n",
    "\n",
    "\n",
    "#Guard_Tower = Card(name='Guard Tower', attack=1, coin={\"Coin\":1}, card_type=\"Attack\")\n",
    "#Stone_Pit = Card(name='Stone Pit', coin={\"Coin\":1}, resource={\"Stone\":1}, card_type=\"Resource\")\n",
    "# player_list=[Player(\"Alex\"), Player(\"Jess\")]\n",
    "Glassworks = Card(name = 'Glassworks', cost = {\"Coin\": 1}, resource={\"Glass\":1}, card_type=\"Resource\")\n",
    "Stables = Card(name = 'Stables', attack = 1, cost = {\"Glass\": 2, \"Stone\":1}, card_type=\"Attack\")\n",
    "Caravansery = Card(name='Caravansery', cost={\"Coin\":2, \"Glass\":1, \"Paper\":1}, \n",
    "                   resource={\"AdvancedSpecial\":1, \"BaseSpecial\":1}, card_type=\"Treasure\")\n",
    "#go back through and add checks for coins\n",
    "p1 = Player(\"Alex\")\n",
    "p2 = Player(\"Jess\")\n",
    "#p1.add_card(Guard_Tower, p2)\n",
    "#p1.add_card(Stone_Pit, p2)\n",
    "#p1.add_card(Caravansery, p2)\n",
    "p2.add_card(Glassworks, p1)\n",
    "p1.add_card(Caravansery, p2)\n",
    "p1.add_card(Stables, p2)\n"
   ]
  },
  {
   "cell_type": "markdown",
   "metadata": {},
   "source": [
    "# Test Area"
   ]
  },
  {
   "cell_type": "code",
   "execution_count": 12,
   "metadata": {},
   "outputs": [
    {
     "data": {
      "text/plain": [
       "4"
      ]
     },
     "execution_count": 12,
     "metadata": {},
     "output_type": "execute_result"
    }
   ],
   "source": []
  },
  {
   "cell_type": "code",
   "execution_count": null,
   "metadata": {},
   "outputs": [],
   "source": []
  }
 ],
 "metadata": {
  "kernelspec": {
   "display_name": "Python 3",
   "language": "python",
   "name": "python3"
  },
  "language_info": {
   "codemirror_mode": {
    "name": "ipython",
    "version": 3
   },
   "file_extension": ".py",
   "mimetype": "text/x-python",
   "name": "python",
   "nbconvert_exporter": "python",
   "pygments_lexer": "ipython3",
   "version": "3.7.4"
  }
 },
 "nbformat": 4,
 "nbformat_minor": 4
}
