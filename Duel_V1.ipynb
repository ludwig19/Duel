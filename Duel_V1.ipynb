{
 "cells": [
  {
   "cell_type": "code",
   "execution_count": 76,
   "metadata": {},
   "outputs": [],
   "source": [
    "# A resource is wood, brick, stone, glass, paper\n",
    "#     [wood, brick, stone, glass, paper]\n",
    "import collections, functools, operator \n"
   ]
  },
  {
   "cell_type": "code",
   "execution_count": 119,
   "metadata": {},
   "outputs": [],
   "source": [
    "class Game:\n",
    "    def __init__(self, ):\n",
    "    \n",
    "    \n",
    "    \n",
    "class Player:\n",
    "    def __init__(self, name):\n",
    "        self.name=name\n",
    "        self.card_dict={}\n",
    "        self.coins=7\n",
    "        \n",
    "    def add_card(self, card):\n",
    "        if card.cost > self.coins:\n",
    "            for \n",
    "        self.card_dict[card.name]={\"Attack\": card.attack, \"VP\": card.vp, \"Resource\": card.resource, \"Card Type\": card.card_type}\n",
    "        \n",
    "    def count_type(self, action_type):\n",
    "        t_sum=0\n",
    "#         Deal with int types \n",
    "        if action_type in [\"Attack\", \"VP\"]: \n",
    "            for i in self.card_dict.values():\n",
    "                t_sum +=i[action_type]\n",
    "            return t_sum\n",
    "#         Deal with tuple types (Resource)\n",
    "        else:\n",
    "            all=[]\n",
    "            for i in self.card_dict.values():\n",
    "                all.append(i[action_type])\n",
    "            result = dict(functools.reduce(operator.add, \n",
    "                                           map(collections.Counter, all)))\n",
    "            return result\n",
    "    \n",
    "            \n",
    "        \n",
    "    \n",
    "class Card:\n",
    "    def __init__(self, name, attack, vp, coin, cost, resource, card_type):\n",
    "        self.name = name\n",
    "        self.attack  = attack\n",
    "        self.vp = vp\n",
    "        self.coin = coin\n",
    "        self.cost=cost\n",
    "        self.resource=resource\n",
    "        self.card_type=card_type\n",
    "\n",
    "\n",
    "        "
   ]
  },
  {
   "cell_type": "markdown",
   "metadata": {},
   "source": [
    "# Card Dictionary\n",
    "## Use this space to define cards that are currently in play"
   ]
  },
  {
   "cell_type": "code",
   "execution_count": 128,
   "metadata": {
    "scrolled": true
   },
   "outputs": [
    {
     "name": "stdout",
     "output_type": "stream",
     "text": [
      "Guard Tower\n"
     ]
    }
   ],
   "source": [
    "cards = [Card('Guard Tower', 1, 0, 0, 0, {\"Wood\":0, \"Brick\":0, \"Stone\":0, \"Glass\":0, \n",
    "                                          \"Paper\":0, \"BaseSpecial\":0, \"AdvancedSpecial\":0}, \"Attack\"), \n",
    "         Card('Stone Pit', 0, 0, 0, 0, {\"Wood\":0, \"Brick\":0, \"Stone\":1, \"Glass\":0, \"Paper\":0}, \"Resource\")]\n",
    "# player_list=[Player(\"Alex\"), Player(\"Jess\")]\n",
    "print(cards[0].name)\n",
    "p1 = Player(\"Alex\")\n",
    "p1.add_card(cards[0])\n",
    "p1.add_card(cards[1])"
   ]
  },
  {
   "cell_type": "markdown",
   "metadata": {},
   "source": [
    "# Test Area"
   ]
  },
  {
   "cell_type": "code",
   "execution_count": 129,
   "metadata": {},
   "outputs": [
    {
     "data": {
      "text/plain": [
       "{'Stone': 1}"
      ]
     },
     "execution_count": 129,
     "metadata": {},
     "output_type": "execute_result"
    }
   ],
   "source": [
    "p1.count_type(\"Resource\")"
   ]
  },
  {
   "cell_type": "code",
   "execution_count": null,
   "metadata": {},
   "outputs": [],
   "source": []
  }
 ],
 "metadata": {
  "kernelspec": {
   "display_name": "Python 3",
   "language": "python",
   "name": "python3"
  },
  "language_info": {
   "codemirror_mode": {
    "name": "ipython",
    "version": 3
   },
   "file_extension": ".py",
   "mimetype": "text/x-python",
   "name": "python",
   "nbconvert_exporter": "python",
   "pygments_lexer": "ipython3",
   "version": "3.7.4"
  }
 },
 "nbformat": 4,
 "nbformat_minor": 2
}
